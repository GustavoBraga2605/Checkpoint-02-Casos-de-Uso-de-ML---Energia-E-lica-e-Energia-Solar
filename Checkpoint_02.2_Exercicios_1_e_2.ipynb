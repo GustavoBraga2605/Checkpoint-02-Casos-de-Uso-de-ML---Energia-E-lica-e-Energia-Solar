{
  "nbformat": 4,
  "nbformat_minor": 0,
  "metadata": {
    "colab": {
      "provenance": [],
      "include_colab_link": true
    },
    "kernelspec": {
      "name": "python3",
      "display_name": "Python 3"
    },
    "language_info": {
      "name": "python"
    }
  },
  "cells": [
    {
      "cell_type": "markdown",
      "metadata": {
        "id": "view-in-github",
        "colab_type": "text"
      },
      "source": [
        "<a href=\"https://colab.research.google.com/github/GustavoBraga2605/Checkpoint-02-Casos-de-Uso-de-ML---Energia-E-lica-e-Energia-Solar/blob/main/Checkpoint_02_2_SERS.ipynb\" target=\"_parent\"><img src=\"https://colab.research.google.com/assets/colab-badge.svg\" alt=\"Open In Colab\"/></a>"
      ]
    },
    {
      "cell_type": "markdown",
      "source": [
        "# Exercício 1 - Classificação Solar"
      ],
      "metadata": {
        "id": "K3RZNgT30R4s"
      }
    },
    {
      "cell_type": "code",
      "source": [
        "import pandas as pd\n",
        "from sklearn.model_selection import train_test_split\n",
        "from sklearn.tree import DecisionTreeRegressor\n",
        "from sklearn.ensemble import RandomForestRegressor\n",
        "from sklearn.svm import SVR\n",
        "from sklearn.metrics import mean_squared_error, r2_score\n",
        "\n",
        "# 1. Carregar dados\n",
        "file_path = \"/content/SolarPrediction.csv\"\n",
        "df = pd.read_csv(file_path)\n",
        "\n",
        "# 2. Criar coluna datetime unindo Data e Time\n",
        "df['Datetime'] = pd.to_datetime(df['Data'] + ' ' + df['Time'])\n",
        "\n",
        "# 3. Verificar dados faltantes\n",
        "print(\"Valores faltantes por coluna:\")\n",
        "print(df.isnull().sum())\n",
        "\n",
        "# 4. Selecionar features e target\n",
        "features = df[['Radiation', 'Temperature', 'Pressure', 'Humidity', 'WindDirection(Degrees)']]\n",
        "target = df['Speed']\n",
        "\n",
        "# 5. Dividir treino e teste\n",
        "X_train, X_test, y_train, y_test = train_test_split(features, target, test_size=0.2, random_state=42)\n",
        "\n",
        "# 6. Definir os modelos\n",
        "models = {\n",
        "    'Decision Tree': DecisionTreeRegressor(random_state=42),\n",
        "    'Random Forest': RandomForestRegressor(n_estimators=100, random_state=42),\n",
        "    'SVM': SVR()\n",
        "}\n",
        "\n",
        "# 7. Treinar, prever e avaliar cada modelo\n",
        "for name, model in models.items():\n",
        "    print(f\"\\nTreinando e avaliando: {name}\")\n",
        "    model.fit(X_train, y_train)\n",
        "    y_pred = model.predict(X_test)\n",
        "\n",
        "    mse = mean_squared_error(y_test, y_pred)\n",
        "    r2 = r2_score(y_test, y_pred)\n",
        "\n",
        "    print(f\"MSE: {mse:.4f}\")\n",
        "    print(f\"R²: {r2:.4f}\")\n",
        "\n",
        "    # Mostrar as 5 primeiras previsões comparadas com o real\n",
        "    comparison = pd.DataFrame({\"Real\": y_test.values, \"Previsto\": y_pred})\n",
        "    print(comparison.head())\n"
      ],
      "metadata": {
        "colab": {
          "base_uri": "https://localhost:8080/"
        },
        "id": "ZKlqqcTyx3tQ",
        "outputId": "49c9b062-7a15-4fd3-d2d3-318c1d9af9f8"
      },
      "execution_count": 1,
      "outputs": [
        {
          "output_type": "stream",
          "name": "stderr",
          "text": [
            "/tmp/ipython-input-2781824806.py:13: UserWarning: Could not infer format, so each element will be parsed individually, falling back to `dateutil`. To ensure parsing is consistent and as-expected, please specify a format.\n",
            "  df['Datetime'] = pd.to_datetime(df['Data'] + ' ' + df['Time'])\n"
          ]
        },
        {
          "output_type": "stream",
          "name": "stdout",
          "text": [
            "Valores faltantes por coluna:\n",
            "UNIXTime                  0\n",
            "Data                      0\n",
            "Time                      0\n",
            "Radiation                 0\n",
            "Temperature               0\n",
            "Pressure                  0\n",
            "Humidity                  0\n",
            "WindDirection(Degrees)    0\n",
            "Speed                     0\n",
            "TimeSunRise               0\n",
            "TimeSunSet                0\n",
            "Datetime                  0\n",
            "dtype: int64\n",
            "\n",
            "Treinando e avaliando: Decision Tree\n",
            "MSE: 13.6430\n",
            "R²: -0.1039\n",
            "   Real  Previsto\n",
            "0  3.37      5.62\n",
            "1  6.75      5.62\n",
            "2  5.62      3.37\n",
            "3  4.50      3.37\n",
            "4  6.75      6.75\n",
            "\n",
            "Treinando e avaliando: Random Forest\n",
            "MSE: 7.3487\n",
            "R²: 0.4054\n",
            "   Real  Previsto\n",
            "0  3.37    5.9704\n",
            "1  6.75    7.0180\n",
            "2  5.62    5.0477\n",
            "3  4.50    4.3621\n",
            "4  6.75    8.6150\n",
            "\n",
            "Treinando e avaliando: SVM\n",
            "MSE: 11.1725\n",
            "R²: 0.0960\n",
            "   Real  Previsto\n",
            "0  3.37  5.764202\n",
            "1  6.75  6.740496\n",
            "2  5.62  6.044206\n",
            "3  4.50  5.614591\n",
            "4  6.75  7.703426\n"
          ]
        }
      ]
    },
    {
      "cell_type": "markdown",
      "source": [
        "# Exercício 2 - Classificação Eólica"
      ],
      "metadata": {
        "id": "P8vtk6yC0J_p"
      }
    },
    {
      "cell_type": "code",
      "source": [
        "import pandas as pd\n",
        "from sklearn.model_selection import train_test_split\n",
        "from sklearn.tree import DecisionTreeRegressor\n",
        "from sklearn.ensemble import RandomForestRegressor\n",
        "from sklearn.svm import SVR\n",
        "from sklearn.preprocessing import StandardScaler\n",
        "from sklearn.metrics import mean_squared_error, r2_score\n",
        "\n",
        "# 1. Caminho para o seu arquivo CSV\n",
        "file_path = \"/content/T1.csv\"\n",
        "\n",
        "# 2. Ler o arquivo (tentando com separador padrão ou ajustando se necessário)\n",
        "df = pd.read_csv(file_path)\n",
        "\n",
        "# 3. Remover espaços extras dos nomes das colunas (se houver)\n",
        "df.columns = df.columns.str.strip()\n",
        "\n",
        "# 4. Visualizar as colunas para garantir que estão corretas\n",
        "print(\"Colunas disponíveis:\", df.columns)\n",
        "\n",
        "# 5. Converter a coluna Date/Time (opcional)\n",
        "df['Date/Time'] = pd.to_datetime(df['Date/Time'], format=\"%d %m %Y %H:%M\")\n",
        "\n",
        "# 6. Selecionar features e target\n",
        "features = df[['Wind Speed (m/s)', 'Theoretical_Power_Curve (KWh)', 'Wind Direction (°)']]\n",
        "target = df['LV ActivePower (kW)']\n",
        "\n",
        "# 7. Dividir os dados em treino e teste\n",
        "X_train, X_test, y_train, y_test = train_test_split(features, target, test_size=0.2, random_state=42)\n",
        "\n",
        "# 8. Normalizar os dados para o SVM\n",
        "scaler = StandardScaler()\n",
        "X_train_scaled = scaler.fit_transform(X_train)\n",
        "X_test_scaled = scaler.transform(X_test)\n",
        "\n",
        "# 9. Definir os modelos\n",
        "models = {\n",
        "    'Decision Tree': DecisionTreeRegressor(random_state=42),\n",
        "    'Random Forest': RandomForestRegressor(n_estimators=100, random_state=42),\n",
        "    'SVM': SVR()\n",
        "}\n",
        "\n",
        "# 10. Treinar e avaliar os modelos\n",
        "for name, model in models.items():\n",
        "    print(f\"\\n=== {name} ===\")\n",
        "\n",
        "    # Usar dados normalizados apenas no SVM\n",
        "    if name == 'SVM':\n",
        "        model.fit(X_train_scaled, y_train)\n",
        "        y_pred = model.predict(X_test_scaled)\n",
        "    else:\n",
        "        model.fit(X_train, y_train)\n",
        "        y_pred = model.predict(X_test)\n",
        "\n",
        "    # Avaliação\n",
        "    mse = mean_squared_error(y_test, y_pred)\n",
        "    r2 = r2_score(y_test, y_pred)\n",
        "\n",
        "    print(f\"MSE: {mse:.2f}\")\n",
        "    print(f\"R²: {r2:.2f}\")\n",
        "\n",
        "    # Comparar real vs previsto\n",
        "    comparison = pd.DataFrame({'Real': y_test.values, 'Previsto': y_pred})\n",
        "    print(comparison.head())\n"
      ],
      "metadata": {
        "colab": {
          "base_uri": "https://localhost:8080/"
        },
        "id": "1WbdfXwY0Hta",
        "outputId": "179e2c2a-b160-4486-cd8f-2157cfbae4a4"
      },
      "execution_count": 2,
      "outputs": [
        {
          "output_type": "stream",
          "name": "stdout",
          "text": [
            "Colunas disponíveis: Index(['Date/Time', 'LV ActivePower (kW)', 'Wind Speed (m/s)',\n",
            "       'Theoretical_Power_Curve (KWh)', 'Wind Direction (°)'],\n",
            "      dtype='object')\n",
            "\n",
            "=== Decision Tree ===\n",
            "MSE: 290295.07\n",
            "R²: 0.83\n",
            "          Real     Previsto\n",
            "0  3348.910889  3206.706055\n",
            "1  2647.506104  2832.934082\n",
            "2     0.000000   702.002686\n",
            "3  1334.573975  1387.177002\n",
            "4   533.002808   464.095886\n",
            "\n",
            "=== Random Forest ===\n",
            "MSE: 170351.13\n",
            "R²: 0.90\n",
            "          Real     Previsto\n",
            "0  3348.910889  2915.659753\n",
            "1  2647.506104  2463.866558\n",
            "2     0.000000   609.679311\n",
            "3  1334.573975  1383.306416\n",
            "4   533.002808   480.992065\n",
            "\n",
            "=== SVM ===\n",
            "MSE: 170162.49\n",
            "R²: 0.90\n",
            "          Real     Previsto\n",
            "0  3348.910889  3162.715003\n",
            "1  2647.506104  2708.541915\n",
            "2     0.000000   680.628699\n",
            "3  1334.573975  1321.516412\n",
            "4   533.002808   490.168662\n"
          ]
        }
      ]
    }
  ]
}
